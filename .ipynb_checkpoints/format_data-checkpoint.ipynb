{
 "cells": [
  {
   "cell_type": "markdown",
   "id": "344e93dc",
   "metadata": {},
   "source": [
    "# Format data\n",
    "Dans ce fichier, on importe les differentes sources, et on les normalise et formatte pour utiliser un meme format"
   ]
  },
  {
   "cell_type": "markdown",
   "id": "b532110b",
   "metadata": {},
   "source": [
    "## Intro: installation"
   ]
  },
  {
   "cell_type": "code",
   "execution_count": 1,
   "id": "ecae0773",
   "metadata": {},
   "outputs": [
    {
     "name": "stdout",
     "output_type": "stream",
     "text": [
      "Requirement already satisfied: pandas in /opt/homebrew/lib/python3.11/site-packages (2.0.2)\n",
      "Requirement already satisfied: python-dateutil>=2.8.2 in /opt/homebrew/lib/python3.11/site-packages (from pandas) (2.8.2)\n",
      "Requirement already satisfied: pytz>=2020.1 in /opt/homebrew/lib/python3.11/site-packages (from pandas) (2023.3)\n",
      "Requirement already satisfied: tzdata>=2022.1 in /opt/homebrew/lib/python3.11/site-packages (from pandas) (2023.3)\n",
      "Requirement already satisfied: numpy>=1.21.0 in /opt/homebrew/lib/python3.11/site-packages (from pandas) (1.25.0)\n",
      "Requirement already satisfied: six>=1.5 in /opt/homebrew/lib/python3.11/site-packages (from python-dateutil>=2.8.2->pandas) (1.16.0)\n",
      "\n",
      "\u001b[1m[\u001b[0m\u001b[34;49mnotice\u001b[0m\u001b[1;39;49m]\u001b[0m\u001b[39;49m A new release of pip is available: \u001b[0m\u001b[31;49m23.0.1\u001b[0m\u001b[39;49m -> \u001b[0m\u001b[32;49m23.1.2\u001b[0m\n",
      "\u001b[1m[\u001b[0m\u001b[34;49mnotice\u001b[0m\u001b[1;39;49m]\u001b[0m\u001b[39;49m To update, run: \u001b[0m\u001b[32;49m/opt/homebrew/opt/python@3.11/bin/python3.11 -m pip install --upgrade pip\u001b[0m\n"
     ]
    }
   ],
   "source": [
    "# Install a pip package in the current Jupyter kernel\n",
    "import sys\n",
    "!{sys.executable} -m pip install pandas"
   ]
  },
  {
   "cell_type": "code",
   "execution_count": 2,
   "id": "8874eb7e",
   "metadata": {},
   "outputs": [],
   "source": [
    "import pandas as pd\n",
    "import re"
   ]
  },
  {
   "cell_type": "markdown",
   "id": "7100ee74",
   "metadata": {},
   "source": [
    "## Fichier corpus"
   ]
  },
  {
   "cell_type": "code",
   "execution_count": 3,
   "id": "c4742451",
   "metadata": {},
   "outputs": [],
   "source": [
    "# Inspire par: http://abdulbaqi.io/2019/01/19/quranic-roots-pandas/\n",
    "\n",
    "# Lire le fichier de quranic corpus (en sautant les lignes d'intro)\n",
    "corpus = pd.read_csv('./data/quranic-corpus-morphology-0.4.txt', sep='\\t',skiprows=56)\n",
    "\n",
    "\n",
    "\n",
    "# L'enregistrer converti en csv\n",
    "corpus.to_csv('./data/quranic-corpus-morphology.csv')\n",
    "\n"
   ]
  },
  {
   "cell_type": "code",
   "execution_count": 4,
   "id": "641e099e",
   "metadata": {},
   "outputs": [
    {
     "data": {
      "text/html": [
       "<div>\n",
       "<style scoped>\n",
       "    .dataframe tbody tr th:only-of-type {\n",
       "        vertical-align: middle;\n",
       "    }\n",
       "\n",
       "    .dataframe tbody tr th {\n",
       "        vertical-align: top;\n",
       "    }\n",
       "\n",
       "    .dataframe thead th {\n",
       "        text-align: right;\n",
       "    }\n",
       "</style>\n",
       "<table border=\"1\" class=\"dataframe\">\n",
       "  <thead>\n",
       "    <tr style=\"text-align: right;\">\n",
       "      <th></th>\n",
       "      <th>LOCATION</th>\n",
       "      <th>FORM</th>\n",
       "      <th>TAG</th>\n",
       "      <th>FEATURES</th>\n",
       "    </tr>\n",
       "  </thead>\n",
       "  <tbody>\n",
       "    <tr>\n",
       "      <th>0</th>\n",
       "      <td>(1:1:1:1)</td>\n",
       "      <td>bi</td>\n",
       "      <td>P</td>\n",
       "      <td>PREFIX|bi+</td>\n",
       "    </tr>\n",
       "    <tr>\n",
       "      <th>1</th>\n",
       "      <td>(1:1:1:2)</td>\n",
       "      <td>somi</td>\n",
       "      <td>N</td>\n",
       "      <td>STEM|POS:N|LEM:{som|ROOT:smw|M|GEN</td>\n",
       "    </tr>\n",
       "    <tr>\n",
       "      <th>2</th>\n",
       "      <td>(1:1:2:1)</td>\n",
       "      <td>{ll~ahi</td>\n",
       "      <td>PN</td>\n",
       "      <td>STEM|POS:PN|LEM:{ll~ah|ROOT:Alh|GEN</td>\n",
       "    </tr>\n",
       "    <tr>\n",
       "      <th>3</th>\n",
       "      <td>(1:1:3:1)</td>\n",
       "      <td>{l</td>\n",
       "      <td>DET</td>\n",
       "      <td>PREFIX|Al+</td>\n",
       "    </tr>\n",
       "    <tr>\n",
       "      <th>4</th>\n",
       "      <td>(1:1:3:2)</td>\n",
       "      <td>r~aHoma`ni</td>\n",
       "      <td>ADJ</td>\n",
       "      <td>STEM|POS:ADJ|LEM:r~aHoma`n|ROOT:rHm|MS|GEN</td>\n",
       "    </tr>\n",
       "  </tbody>\n",
       "</table>\n",
       "</div>"
      ],
      "text/plain": [
       "    LOCATION        FORM  TAG                                    FEATURES\n",
       "0  (1:1:1:1)          bi    P                                  PREFIX|bi+\n",
       "1  (1:1:1:2)        somi    N          STEM|POS:N|LEM:{som|ROOT:smw|M|GEN\n",
       "2  (1:1:2:1)     {ll~ahi   PN         STEM|POS:PN|LEM:{ll~ah|ROOT:Alh|GEN\n",
       "3  (1:1:3:1)          {l  DET                                  PREFIX|Al+\n",
       "4  (1:1:3:2)  r~aHoma`ni  ADJ  STEM|POS:ADJ|LEM:r~aHoma`n|ROOT:rHm|MS|GEN"
      ]
     },
     "execution_count": 4,
     "metadata": {},
     "output_type": "execute_result"
    }
   ],
   "source": [
    "# Voir un sample \n",
    "corpus.head()"
   ]
  },
  {
   "cell_type": "code",
   "execution_count": 5,
   "id": "f1d1cbf3",
   "metadata": {},
   "outputs": [
    {
     "data": {
      "text/plain": [
       "LOCATION    128219\n",
       "FORM        128011\n",
       "TAG         128219\n",
       "FEATURES    128219\n",
       "dtype: int64"
      ]
     },
     "execution_count": 5,
     "metadata": {},
     "output_type": "execute_result"
    }
   ],
   "source": [
    "# Compter lignes\n",
    "corpus.count()"
   ]
  },
  {
   "cell_type": "code",
   "execution_count": 6,
   "id": "29c6b42c",
   "metadata": {},
   "outputs": [
    {
     "data": {
      "text/html": [
       "<div>\n",
       "<style scoped>\n",
       "    .dataframe tbody tr th:only-of-type {\n",
       "        vertical-align: middle;\n",
       "    }\n",
       "\n",
       "    .dataframe tbody tr th {\n",
       "        vertical-align: top;\n",
       "    }\n",
       "\n",
       "    .dataframe thead th {\n",
       "        text-align: right;\n",
       "    }\n",
       "</style>\n",
       "<table border=\"1\" class=\"dataframe\">\n",
       "  <thead>\n",
       "    <tr style=\"text-align: right;\">\n",
       "      <th></th>\n",
       "      <th>LOCATION</th>\n",
       "      <th>FORM</th>\n",
       "      <th>TAG</th>\n",
       "      <th>FEATURES</th>\n",
       "      <th>root</th>\n",
       "    </tr>\n",
       "  </thead>\n",
       "  <tbody>\n",
       "    <tr>\n",
       "      <th>0</th>\n",
       "      <td>(1:1:1:1)</td>\n",
       "      <td>bi</td>\n",
       "      <td>P</td>\n",
       "      <td>PREFIX|bi+</td>\n",
       "      <td>None</td>\n",
       "    </tr>\n",
       "    <tr>\n",
       "      <th>1</th>\n",
       "      <td>(1:1:1:2)</td>\n",
       "      <td>somi</td>\n",
       "      <td>N</td>\n",
       "      <td>STEM|POS:N|LEM:{som|ROOT:smw|M|GEN</td>\n",
       "      <td>smw</td>\n",
       "    </tr>\n",
       "    <tr>\n",
       "      <th>2</th>\n",
       "      <td>(1:1:2:1)</td>\n",
       "      <td>{ll~ahi</td>\n",
       "      <td>PN</td>\n",
       "      <td>STEM|POS:PN|LEM:{ll~ah|ROOT:Alh|GEN</td>\n",
       "      <td>Alh</td>\n",
       "    </tr>\n",
       "    <tr>\n",
       "      <th>3</th>\n",
       "      <td>(1:1:3:1)</td>\n",
       "      <td>{l</td>\n",
       "      <td>DET</td>\n",
       "      <td>PREFIX|Al+</td>\n",
       "      <td>None</td>\n",
       "    </tr>\n",
       "    <tr>\n",
       "      <th>4</th>\n",
       "      <td>(1:1:3:2)</td>\n",
       "      <td>r~aHoma`ni</td>\n",
       "      <td>ADJ</td>\n",
       "      <td>STEM|POS:ADJ|LEM:r~aHoma`n|ROOT:rHm|MS|GEN</td>\n",
       "      <td>rHm</td>\n",
       "    </tr>\n",
       "  </tbody>\n",
       "</table>\n",
       "</div>"
      ],
      "text/plain": [
       "    LOCATION        FORM  TAG                                    FEATURES  \\\n",
       "0  (1:1:1:1)          bi    P                                  PREFIX|bi+   \n",
       "1  (1:1:1:2)        somi    N          STEM|POS:N|LEM:{som|ROOT:smw|M|GEN   \n",
       "2  (1:1:2:1)     {ll~ahi   PN         STEM|POS:PN|LEM:{ll~ah|ROOT:Alh|GEN   \n",
       "3  (1:1:3:1)          {l  DET                                  PREFIX|Al+   \n",
       "4  (1:1:3:2)  r~aHoma`ni  ADJ  STEM|POS:ADJ|LEM:r~aHoma`n|ROOT:rHm|MS|GEN   \n",
       "\n",
       "   root  \n",
       "0  None  \n",
       "1   smw  \n",
       "2   Alh  \n",
       "3  None  \n",
       "4   rHm  "
      ]
     },
     "execution_count": 6,
     "metadata": {},
     "output_type": "execute_result"
    }
   ],
   "source": [
    "# Ajouter une colonne pour \"root\"\n",
    "\n",
    "\n",
    "# Function to extract the value of 'root' from 'features' using regex\n",
    "def extraire_root(features):\n",
    "    match = re.search(r\"\\|ROOT:([^|]+)\", features)\n",
    "    if match:\n",
    "        return match.group(1)\n",
    "    else:\n",
    "        return None\n",
    "\n",
    "# Apply the 'extract_root' function to create the 'root' column\n",
    "corpus['root'] = corpus['FEATURES'].apply(extraire_root)\n",
    "\n",
    "\n",
    "corpus.head()"
   ]
  },
  {
   "cell_type": "code",
   "execution_count": 7,
   "id": "fba55742",
   "metadata": {},
   "outputs": [
    {
     "data": {
      "text/html": [
       "<div>\n",
       "<style scoped>\n",
       "    .dataframe tbody tr th:only-of-type {\n",
       "        vertical-align: middle;\n",
       "    }\n",
       "\n",
       "    .dataframe tbody tr th {\n",
       "        vertical-align: top;\n",
       "    }\n",
       "\n",
       "    .dataframe thead th {\n",
       "        text-align: right;\n",
       "    }\n",
       "</style>\n",
       "<table border=\"1\" class=\"dataframe\">\n",
       "  <thead>\n",
       "    <tr style=\"text-align: right;\">\n",
       "      <th></th>\n",
       "      <th>LOCATION</th>\n",
       "      <th>FORM</th>\n",
       "      <th>TAG</th>\n",
       "      <th>FEATURES</th>\n",
       "      <th>root</th>\n",
       "      <th>word_location</th>\n",
       "    </tr>\n",
       "  </thead>\n",
       "  <tbody>\n",
       "    <tr>\n",
       "      <th>0</th>\n",
       "      <td>(1:1:1:1)</td>\n",
       "      <td>bi</td>\n",
       "      <td>P</td>\n",
       "      <td>PREFIX|bi+</td>\n",
       "      <td>None</td>\n",
       "      <td>1:1:1</td>\n",
       "    </tr>\n",
       "    <tr>\n",
       "      <th>1</th>\n",
       "      <td>(1:1:1:2)</td>\n",
       "      <td>somi</td>\n",
       "      <td>N</td>\n",
       "      <td>STEM|POS:N|LEM:{som|ROOT:smw|M|GEN</td>\n",
       "      <td>smw</td>\n",
       "      <td>1:1:1</td>\n",
       "    </tr>\n",
       "    <tr>\n",
       "      <th>2</th>\n",
       "      <td>(1:1:2:1)</td>\n",
       "      <td>{ll~ahi</td>\n",
       "      <td>PN</td>\n",
       "      <td>STEM|POS:PN|LEM:{ll~ah|ROOT:Alh|GEN</td>\n",
       "      <td>Alh</td>\n",
       "      <td>1:1:2</td>\n",
       "    </tr>\n",
       "    <tr>\n",
       "      <th>3</th>\n",
       "      <td>(1:1:3:1)</td>\n",
       "      <td>{l</td>\n",
       "      <td>DET</td>\n",
       "      <td>PREFIX|Al+</td>\n",
       "      <td>None</td>\n",
       "      <td>1:1:3</td>\n",
       "    </tr>\n",
       "    <tr>\n",
       "      <th>4</th>\n",
       "      <td>(1:1:3:2)</td>\n",
       "      <td>r~aHoma`ni</td>\n",
       "      <td>ADJ</td>\n",
       "      <td>STEM|POS:ADJ|LEM:r~aHoma`n|ROOT:rHm|MS|GEN</td>\n",
       "      <td>rHm</td>\n",
       "      <td>1:1:3</td>\n",
       "    </tr>\n",
       "  </tbody>\n",
       "</table>\n",
       "</div>"
      ],
      "text/plain": [
       "    LOCATION        FORM  TAG                                    FEATURES  \\\n",
       "0  (1:1:1:1)          bi    P                                  PREFIX|bi+   \n",
       "1  (1:1:1:2)        somi    N          STEM|POS:N|LEM:{som|ROOT:smw|M|GEN   \n",
       "2  (1:1:2:1)     {ll~ahi   PN         STEM|POS:PN|LEM:{ll~ah|ROOT:Alh|GEN   \n",
       "3  (1:1:3:1)          {l  DET                                  PREFIX|Al+   \n",
       "4  (1:1:3:2)  r~aHoma`ni  ADJ  STEM|POS:ADJ|LEM:r~aHoma`n|ROOT:rHm|MS|GEN   \n",
       "\n",
       "   root word_location  \n",
       "0  None         1:1:1  \n",
       "1   smw         1:1:1  \n",
       "2   Alh         1:1:2  \n",
       "3  None         1:1:3  \n",
       "4   rHm         1:1:3  "
      ]
     },
     "execution_count": 7,
     "metadata": {},
     "output_type": "execute_result"
    }
   ],
   "source": [
    "# Fonction pour extraire la position du mot au niveau 3 (par exemple 6:11:2)\n",
    "def extraire_position_mot(location):\n",
    "    match = re.match(r\"\\((\\d+:\\d+:\\d+)\", location)\n",
    "    if match:\n",
    "        return match.group(1)\n",
    "    else:\n",
    "        return None\n",
    "\n",
    "# Appliquer la fonction pour creer \"word_location\"\n",
    "corpus['word_location'] = corpus['LOCATION'].apply(extraire_position_mot)\n",
    "\n",
    "corpus.head()"
   ]
  },
  {
   "cell_type": "code",
   "execution_count": 8,
   "id": "1490f92f",
   "metadata": {},
   "outputs": [
    {
     "data": {
      "text/html": [
       "<div>\n",
       "<style scoped>\n",
       "    .dataframe tbody tr th:only-of-type {\n",
       "        vertical-align: middle;\n",
       "    }\n",
       "\n",
       "    .dataframe tbody tr th {\n",
       "        vertical-align: top;\n",
       "    }\n",
       "\n",
       "    .dataframe thead th {\n",
       "        text-align: right;\n",
       "    }\n",
       "</style>\n",
       "<table border=\"1\" class=\"dataframe\">\n",
       "  <thead>\n",
       "    <tr style=\"text-align: right;\">\n",
       "      <th></th>\n",
       "      <th>LOCATION</th>\n",
       "      <th>FORM</th>\n",
       "      <th>TAG</th>\n",
       "      <th>FEATURES</th>\n",
       "      <th>root</th>\n",
       "      <th>word_location</th>\n",
       "      <th>verse</th>\n",
       "    </tr>\n",
       "  </thead>\n",
       "  <tbody>\n",
       "    <tr>\n",
       "      <th>0</th>\n",
       "      <td>(1:1:1:1)</td>\n",
       "      <td>bi</td>\n",
       "      <td>P</td>\n",
       "      <td>PREFIX|bi+</td>\n",
       "      <td>None</td>\n",
       "      <td>1:1:1</td>\n",
       "      <td>1:1</td>\n",
       "    </tr>\n",
       "    <tr>\n",
       "      <th>1</th>\n",
       "      <td>(1:1:1:2)</td>\n",
       "      <td>somi</td>\n",
       "      <td>N</td>\n",
       "      <td>STEM|POS:N|LEM:{som|ROOT:smw|M|GEN</td>\n",
       "      <td>smw</td>\n",
       "      <td>1:1:1</td>\n",
       "      <td>1:1</td>\n",
       "    </tr>\n",
       "    <tr>\n",
       "      <th>2</th>\n",
       "      <td>(1:1:2:1)</td>\n",
       "      <td>{ll~ahi</td>\n",
       "      <td>PN</td>\n",
       "      <td>STEM|POS:PN|LEM:{ll~ah|ROOT:Alh|GEN</td>\n",
       "      <td>Alh</td>\n",
       "      <td>1:1:2</td>\n",
       "      <td>1:1</td>\n",
       "    </tr>\n",
       "    <tr>\n",
       "      <th>3</th>\n",
       "      <td>(1:1:3:1)</td>\n",
       "      <td>{l</td>\n",
       "      <td>DET</td>\n",
       "      <td>PREFIX|Al+</td>\n",
       "      <td>None</td>\n",
       "      <td>1:1:3</td>\n",
       "      <td>1:1</td>\n",
       "    </tr>\n",
       "    <tr>\n",
       "      <th>4</th>\n",
       "      <td>(1:1:3:2)</td>\n",
       "      <td>r~aHoma`ni</td>\n",
       "      <td>ADJ</td>\n",
       "      <td>STEM|POS:ADJ|LEM:r~aHoma`n|ROOT:rHm|MS|GEN</td>\n",
       "      <td>rHm</td>\n",
       "      <td>1:1:3</td>\n",
       "      <td>1:1</td>\n",
       "    </tr>\n",
       "  </tbody>\n",
       "</table>\n",
       "</div>"
      ],
      "text/plain": [
       "    LOCATION        FORM  TAG                                    FEATURES  \\\n",
       "0  (1:1:1:1)          bi    P                                  PREFIX|bi+   \n",
       "1  (1:1:1:2)        somi    N          STEM|POS:N|LEM:{som|ROOT:smw|M|GEN   \n",
       "2  (1:1:2:1)     {ll~ahi   PN         STEM|POS:PN|LEM:{ll~ah|ROOT:Alh|GEN   \n",
       "3  (1:1:3:1)          {l  DET                                  PREFIX|Al+   \n",
       "4  (1:1:3:2)  r~aHoma`ni  ADJ  STEM|POS:ADJ|LEM:r~aHoma`n|ROOT:rHm|MS|GEN   \n",
       "\n",
       "   root word_location verse  \n",
       "0  None         1:1:1   1:1  \n",
       "1   smw         1:1:1   1:1  \n",
       "2   Alh         1:1:2   1:1  \n",
       "3  None         1:1:3   1:1  \n",
       "4   rHm         1:1:3   1:1  "
      ]
     },
     "execution_count": 8,
     "metadata": {},
     "output_type": "execute_result"
    }
   ],
   "source": [
    "# Extraire le verset de 'LOCATION'\n",
    "def extraire_verset(location):\n",
    "    match = re.match(r\"\\((\\d+:\\d++)\", location)\n",
    "    if match:\n",
    "        return match.group(1)\n",
    "    else:\n",
    "        return None\n",
    "\n",
    "# Apply the 'extraire_verset' function to create the 'verse' column\n",
    "corpus['verse'] = corpus['LOCATION'].apply(extraire_verset)\n",
    "\n",
    "\n",
    "corpus.head()"
   ]
  },
  {
   "cell_type": "code",
   "execution_count": 9,
   "id": "3e3356a5",
   "metadata": {},
   "outputs": [
    {
     "data": {
      "text/plain": [
       "77429"
      ]
     },
     "execution_count": 9,
     "metadata": {},
     "output_type": "execute_result"
    }
   ],
   "source": [
    "# compter le nombre de mots selon cette source\n",
    "corpus['word_location'].nunique()"
   ]
  },
  {
   "cell_type": "markdown",
   "id": "276c33b8",
   "metadata": {},
   "source": [
    "## Fichier Coran mot a mot"
   ]
  },
  {
   "cell_type": "code",
   "execution_count": 11,
   "id": "8219ba1e",
   "metadata": {},
   "outputs": [
    {
     "data": {
      "text/html": [
       "<div>\n",
       "<style scoped>\n",
       "    .dataframe tbody tr th:only-of-type {\n",
       "        vertical-align: middle;\n",
       "    }\n",
       "\n",
       "    .dataframe tbody tr th {\n",
       "        vertical-align: top;\n",
       "    }\n",
       "\n",
       "    .dataframe thead th {\n",
       "        text-align: right;\n",
       "    }\n",
       "</style>\n",
       "<table border=\"1\" class=\"dataframe\">\n",
       "  <thead>\n",
       "    <tr style=\"text-align: right;\">\n",
       "      <th></th>\n",
       "      <th>N° de mot</th>\n",
       "      <th>Mot arabe</th>\n",
       "      <th>Translitération</th>\n",
       "      <th>Racine</th>\n",
       "      <th>Traduction</th>\n",
       "    </tr>\n",
       "  </thead>\n",
       "  <tbody>\n",
       "    <tr>\n",
       "      <th>0</th>\n",
       "      <td>1:1#1</td>\n",
       "      <td>بِسْمِ</td>\n",
       "      <td>biçmi</td>\n",
       "      <td>سمو</td>\n",
       "      <td>Par le biais de l'attribut de</td>\n",
       "    </tr>\n",
       "    <tr>\n",
       "      <th>1</th>\n",
       "      <td>1:1#2</td>\n",
       "      <td>ٱللَّهِ</td>\n",
       "      <td>allahi</td>\n",
       "      <td>الله</td>\n",
       "      <td>Dieu</td>\n",
       "    </tr>\n",
       "    <tr>\n",
       "      <th>2</th>\n",
       "      <td>1:1#3</td>\n",
       "      <td>ٱلرَّحْمَٰنِ</td>\n",
       "      <td>alraĥmani</td>\n",
       "      <td>رحم</td>\n",
       "      <td>le Très Bienveillant,</td>\n",
       "    </tr>\n",
       "    <tr>\n",
       "      <th>3</th>\n",
       "      <td>1:1#4</td>\n",
       "      <td>ٱلرَّحِيمِ</td>\n",
       "      <td>alraĥiymi</td>\n",
       "      <td>رحم</td>\n",
       "      <td>le vecteur de toute Bienveillance (Bienveilleur).</td>\n",
       "    </tr>\n",
       "    <tr>\n",
       "      <th>4</th>\n",
       "      <td>1:2#1</td>\n",
       "      <td>ٱلْحَمْدُ</td>\n",
       "      <td>alĥamdou</td>\n",
       "      <td>حمد</td>\n",
       "      <td>Louanges</td>\n",
       "    </tr>\n",
       "  </tbody>\n",
       "</table>\n",
       "</div>"
      ],
      "text/plain": [
       "  N° de mot     Mot arabe Translitération Racine  \\\n",
       "0     1:1#1        بِسْمِ           biçmi    سمو   \n",
       "1     1:1#2       ٱللَّهِ          allahi   الله   \n",
       "2     1:1#3  ٱلرَّحْمَٰنِ       alraĥmani    رحم   \n",
       "3     1:1#4    ٱلرَّحِيمِ       alraĥiymi    رحم   \n",
       "4     1:2#1     ٱلْحَمْدُ        alĥamdou    حمد   \n",
       "\n",
       "                                          Traduction  \n",
       "0                      Par le biais de l'attribut de  \n",
       "1                                               Dieu  \n",
       "2                              le Très Bienveillant,  \n",
       "3  le vecteur de toute Bienveillance (Bienveilleur).  \n",
       "4                                           Louanges  "
      ]
     },
     "execution_count": 11,
     "metadata": {},
     "output_type": "execute_result"
    }
   ],
   "source": [
    "coran_mot = pd.read_csv('./data/Coran_mot_a_mot_coranseul_12juin2019.csv')\n",
    "coran_mot.head()"
   ]
  },
  {
   "cell_type": "code",
   "execution_count": 12,
   "id": "121b8a60",
   "metadata": {},
   "outputs": [
    {
     "data": {
      "text/plain": [
       "77399"
      ]
     },
     "execution_count": 12,
     "metadata": {},
     "output_type": "execute_result"
    }
   ],
   "source": [
    "# compter le nombre de mots selon cette source\n",
    "coran_mot['N° de mot'].nunique()"
   ]
  },
  {
   "cell_type": "code",
   "execution_count": 16,
   "id": "835252dd",
   "metadata": {},
   "outputs": [
    {
     "data": {
      "text/html": [
       "<div>\n",
       "<style scoped>\n",
       "    .dataframe tbody tr th:only-of-type {\n",
       "        vertical-align: middle;\n",
       "    }\n",
       "\n",
       "    .dataframe tbody tr th {\n",
       "        vertical-align: top;\n",
       "    }\n",
       "\n",
       "    .dataframe thead th {\n",
       "        text-align: right;\n",
       "    }\n",
       "</style>\n",
       "<table border=\"1\" class=\"dataframe\">\n",
       "  <thead>\n",
       "    <tr style=\"text-align: right;\">\n",
       "      <th></th>\n",
       "      <th>N° de mot</th>\n",
       "      <th>Mot arabe</th>\n",
       "      <th>Translitération</th>\n",
       "      <th>Racine</th>\n",
       "      <th>Traduction</th>\n",
       "      <th>word_location</th>\n",
       "    </tr>\n",
       "  </thead>\n",
       "  <tbody>\n",
       "    <tr>\n",
       "      <th>0</th>\n",
       "      <td>1:1#1</td>\n",
       "      <td>بِسْمِ</td>\n",
       "      <td>biçmi</td>\n",
       "      <td>سمو</td>\n",
       "      <td>Par le biais de l'attribut de</td>\n",
       "      <td>1:1:1</td>\n",
       "    </tr>\n",
       "    <tr>\n",
       "      <th>1</th>\n",
       "      <td>1:1#2</td>\n",
       "      <td>ٱللَّهِ</td>\n",
       "      <td>allahi</td>\n",
       "      <td>الله</td>\n",
       "      <td>Dieu</td>\n",
       "      <td>1:1:2</td>\n",
       "    </tr>\n",
       "    <tr>\n",
       "      <th>2</th>\n",
       "      <td>1:1#3</td>\n",
       "      <td>ٱلرَّحْمَٰنِ</td>\n",
       "      <td>alraĥmani</td>\n",
       "      <td>رحم</td>\n",
       "      <td>le Très Bienveillant,</td>\n",
       "      <td>1:1:3</td>\n",
       "    </tr>\n",
       "    <tr>\n",
       "      <th>3</th>\n",
       "      <td>1:1#4</td>\n",
       "      <td>ٱلرَّحِيمِ</td>\n",
       "      <td>alraĥiymi</td>\n",
       "      <td>رحم</td>\n",
       "      <td>le vecteur de toute Bienveillance (Bienveilleur).</td>\n",
       "      <td>1:1:4</td>\n",
       "    </tr>\n",
       "    <tr>\n",
       "      <th>4</th>\n",
       "      <td>1:2#1</td>\n",
       "      <td>ٱلْحَمْدُ</td>\n",
       "      <td>alĥamdou</td>\n",
       "      <td>حمد</td>\n",
       "      <td>Louanges</td>\n",
       "      <td>1:2:1</td>\n",
       "    </tr>\n",
       "  </tbody>\n",
       "</table>\n",
       "</div>"
      ],
      "text/plain": [
       "  N° de mot     Mot arabe Translitération Racine  \\\n",
       "0     1:1#1        بِسْمِ           biçmi    سمو   \n",
       "1     1:1#2       ٱللَّهِ          allahi   الله   \n",
       "2     1:1#3  ٱلرَّحْمَٰنِ       alraĥmani    رحم   \n",
       "3     1:1#4    ٱلرَّحِيمِ       alraĥiymi    رحم   \n",
       "4     1:2#1     ٱلْحَمْدُ        alĥamdou    حمد   \n",
       "\n",
       "                                          Traduction word_location  \n",
       "0                      Par le biais de l'attribut de         1:1:1  \n",
       "1                                               Dieu         1:1:2  \n",
       "2                              le Très Bienveillant,         1:1:3  \n",
       "3  le vecteur de toute Bienveillance (Bienveilleur).         1:1:4  \n",
       "4                                           Louanges         1:2:1  "
      ]
     },
     "execution_count": 16,
     "metadata": {},
     "output_type": "execute_result"
    }
   ],
   "source": [
    "# Il y a une disparite. On va maintenant trouver ou. \n",
    "# Je vais creer la colonne word_location sur coran_mot aussi avec le meme format que dans l'autre.\n",
    "# Formatter 'N° de mot' en format 1:1:1\n",
    "def formatter_numero_en_word_location(numero):\n",
    "    return numero.replace(\"#\", \":\")\n",
    "\n",
    "coran_mot['word_location'] = coran_mot['N° de mot'].apply(formatter_numero_en_word_location)\n",
    "\n",
    "\n",
    "coran_mot.head()"
   ]
  },
  {
   "cell_type": "code",
   "execution_count": 24,
   "id": "6c2ea4b5",
   "metadata": {},
   "outputs": [
    {
     "name": "stdout",
     "output_type": "stream",
     "text": [
      "Dans corpus mais pas coran_mot: {'9:128:11', '9:129:8', '9:129:3', '9:129:12', '9:128:6', '9:129:4', '9:129:1', '9:128:14', '9:129:11', '9:128:1', '9:129:7', '9:128:7', '9:128:12', '9:129:15', '9:128:9', '9:128:5', '9:128:3', '9:129:5', '9:128:13', '9:129:10', '9:129:9', '9:129:6', '9:129:14', '96:5:5', '9:128:2', '9:128:8', '9:128:4', '9:128:10', '9:129:13', '9:129:2'}\n",
      "Dans coran_mot mais pas corpus: set()\n"
     ]
    }
   ],
   "source": [
    "# Trouver les word_location qui sont dans une source et pas l'autre\n",
    "\n",
    "\n",
    "# Un set recupere les valeurs uniques\n",
    "corpus_word_locations = set(corpus['word_location'])\n",
    "coran_mot_word_locations = set(coran_mot['word_location'])\n",
    "\n",
    "# les word_location dans corpus qui ne sont pas dans coran_mot\n",
    "seulement_dans_corpus = corpus_word_locations - coran_mot_word_locations\n",
    "\n",
    "# Find the word_location values that appear in df2 but not in df1\n",
    "seulement_dans_coran_mot = coran_mot_word_locations - corpus_word_locations\n",
    "\n",
    "# Print the results\n",
    "print(\"Dans corpus mais pas coran_mot:\", seulement_dans_corpus)\n",
    "print(\"Dans coran_mot mais pas corpus:\", seulement_dans_coran_mot)"
   ]
  },
  {
   "cell_type": "code",
   "execution_count": 23,
   "id": "7def9fe2",
   "metadata": {},
   "outputs": [
    {
     "data": {
      "text/plain": [
       "128219"
      ]
     },
     "execution_count": 23,
     "metadata": {},
     "output_type": "execute_result"
    }
   ],
   "source": [
    "# En gros, il manque les versets 9:128 et 9:129 dans Coran mot a mot. Il manque aussi le mot 96:5:5."
   ]
  },
  {
   "cell_type": "code",
   "execution_count": null,
   "id": "0d64bd3f",
   "metadata": {},
   "outputs": [],
   "source": []
  }
 ],
 "metadata": {
  "kernelspec": {
   "display_name": "Python 3 (ipykernel)",
   "language": "python",
   "name": "python3"
  },
  "language_info": {
   "codemirror_mode": {
    "name": "ipython",
    "version": 3
   },
   "file_extension": ".py",
   "mimetype": "text/x-python",
   "name": "python",
   "nbconvert_exporter": "python",
   "pygments_lexer": "ipython3",
   "version": "3.11.2"
  }
 },
 "nbformat": 4,
 "nbformat_minor": 5
}
