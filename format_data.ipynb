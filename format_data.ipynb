{
 "cells": [
  {
   "cell_type": "markdown",
   "id": "344e93dc",
   "metadata": {},
   "source": [
    "# Format data\n",
    "Dans ce fichier, on importe les differentes sources, et on les normalise et formatte pour utiliser un meme format"
   ]
  },
  {
   "cell_type": "markdown",
   "id": "b532110b",
   "metadata": {},
   "source": [
    "## Intro: installation"
   ]
  },
  {
   "cell_type": "code",
   "execution_count": 11,
   "id": "ecae0773",
   "metadata": {},
   "outputs": [
    {
     "name": "stdout",
     "output_type": "stream",
     "text": [
      "Requirement already satisfied: pandas in /opt/homebrew/lib/python3.11/site-packages (2.0.2)\n",
      "Requirement already satisfied: python-dateutil>=2.8.2 in /opt/homebrew/lib/python3.11/site-packages (from pandas) (2.8.2)\n",
      "Requirement already satisfied: pytz>=2020.1 in /opt/homebrew/lib/python3.11/site-packages (from pandas) (2023.3)\n",
      "Requirement already satisfied: tzdata>=2022.1 in /opt/homebrew/lib/python3.11/site-packages (from pandas) (2023.3)\n",
      "Requirement already satisfied: numpy>=1.21.0 in /opt/homebrew/lib/python3.11/site-packages (from pandas) (1.25.0)\n",
      "Requirement already satisfied: six>=1.5 in /opt/homebrew/lib/python3.11/site-packages (from python-dateutil>=2.8.2->pandas) (1.16.0)\n",
      "\n",
      "\u001b[1m[\u001b[0m\u001b[34;49mnotice\u001b[0m\u001b[1;39;49m]\u001b[0m\u001b[39;49m A new release of pip is available: \u001b[0m\u001b[31;49m23.0.1\u001b[0m\u001b[39;49m -> \u001b[0m\u001b[32;49m23.1.2\u001b[0m\n",
      "\u001b[1m[\u001b[0m\u001b[34;49mnotice\u001b[0m\u001b[1;39;49m]\u001b[0m\u001b[39;49m To update, run: \u001b[0m\u001b[32;49m/opt/homebrew/opt/python@3.11/bin/python3.11 -m pip install --upgrade pip\u001b[0m\n"
     ]
    }
   ],
   "source": [
    "# Install a pip package in the current Jupyter kernel\n",
    "import sys\n",
    "!{sys.executable} -m pip install pandas"
   ]
  },
  {
   "cell_type": "code",
   "execution_count": 12,
   "id": "8874eb7e",
   "metadata": {},
   "outputs": [],
   "source": [
    "import pandas as pd\n",
    "import re"
   ]
  },
  {
   "cell_type": "markdown",
   "id": "7100ee74",
   "metadata": {},
   "source": [
    "## Fichier corpus"
   ]
  },
  {
   "cell_type": "code",
   "execution_count": null,
   "id": "c4742451",
   "metadata": {},
   "outputs": [],
   "source": [
    "# Inspire par: http://abdulbaqi.io/2019/01/19/quranic-roots-pandas/\n",
    "\n",
    "# Lire le fichier de quranic corpus (en sautant les lignes d'intro)\n",
    "corpus = pd.read_csv('./original_data/quranic-corpus-morphology-0.4.txt', sep='\\t',skiprows=56)\n",
    "\n",
    "\n",
    "\n",
    "# L'enregistrer converti en csv\n",
    "corpus.to_csv('./original_data/quranic-corpus-morphology.csv')\n",
    "\n"
   ]
  },
  {
   "cell_type": "code",
   "execution_count": null,
   "id": "641e099e",
   "metadata": {},
   "outputs": [],
   "source": [
    "# Voir un sample \n",
    "corpus.head()"
   ]
  },
  {
   "cell_type": "code",
   "execution_count": null,
   "id": "f1d1cbf3",
   "metadata": {},
   "outputs": [],
   "source": [
    "# Compter lignes\n",
    "corpus.count()"
   ]
  },
  {
   "cell_type": "code",
   "execution_count": null,
   "id": "29c6b42c",
   "metadata": {},
   "outputs": [],
   "source": [
    "# Ajouter une colonne pour \"root\"\n",
    "\n",
    "\n",
    "# Function to extract the value of 'root' from 'features' using regex\n",
    "def extraire_root(features):\n",
    "    match = re.search(r\"\\|ROOT:([^|]+)\", features)\n",
    "    if match:\n",
    "        return match.group(1)\n",
    "    else:\n",
    "        return None\n",
    "\n",
    "# Apply the 'extract_root' function to create the 'root' column\n",
    "corpus['root'] = corpus['FEATURES'].apply(extraire_root)\n",
    "\n",
    "\n",
    "corpus.head()"
   ]
  },
  {
   "cell_type": "code",
   "execution_count": null,
   "id": "fba55742",
   "metadata": {},
   "outputs": [],
   "source": [
    "# Fonction pour extraire la position du mot au niveau 3 (par exemple 6:11:2)\n",
    "def extraire_position_mot(location):\n",
    "    match = re.match(r\"\\((\\d+:\\d+:\\d+)\", location)\n",
    "    if match:\n",
    "        return match.group(1)\n",
    "    else:\n",
    "        return None\n",
    "\n",
    "# Appliquer la fonction pour creer \"word_location\"\n",
    "corpus['word_location'] = corpus['LOCATION'].apply(extraire_position_mot)\n",
    "\n",
    "corpus.head()"
   ]
  },
  {
   "cell_type": "code",
   "execution_count": null,
   "id": "1490f92f",
   "metadata": {},
   "outputs": [],
   "source": [
    "# Extraire le verset de 'LOCATION'\n",
    "def extraire_verset(location):\n",
    "    match = re.match(r\"\\((\\d+:\\d++)\", location)\n",
    "    if match:\n",
    "        return match.group(1)\n",
    "    else:\n",
    "        return None\n",
    "\n",
    "# Apply the 'extraire_verset' function to create the 'verse' column\n",
    "corpus['verse'] = corpus['LOCATION'].apply(extraire_verset)\n",
    "\n",
    "\n",
    "corpus.head()"
   ]
  },
  {
   "cell_type": "code",
   "execution_count": null,
   "id": "3e3356a5",
   "metadata": {},
   "outputs": [],
   "source": [
    "# compter le nombre de mots selon cette source\n",
    "corpus['word_location'].nunique()"
   ]
  },
  {
   "cell_type": "markdown",
   "id": "276c33b8",
   "metadata": {},
   "source": [
    "## Fichier Coran mot a mot"
   ]
  },
  {
   "cell_type": "code",
   "execution_count": null,
   "id": "8219ba1e",
   "metadata": {},
   "outputs": [],
   "source": [
    "coran_mot = pd.read_csv('./data/Coran_mot_a_mot_coranseul_12juin2019.csv')\n",
    "coran_mot.head()"
   ]
  },
  {
   "cell_type": "code",
   "execution_count": null,
   "id": "121b8a60",
   "metadata": {},
   "outputs": [],
   "source": [
    "# compter le nombre de mots selon cette source\n",
    "coran_mot['N° de mot'].nunique()"
   ]
  },
  {
   "cell_type": "code",
   "execution_count": null,
   "id": "835252dd",
   "metadata": {},
   "outputs": [],
   "source": [
    "# Il y a une disparite. On va maintenant trouver ou. \n",
    "# Je vais creer la colonne word_location sur coran_mot aussi avec le meme format que dans l'autre.\n",
    "# Formatter 'N° de mot' en format 1:1:1\n",
    "def formatter_numero_en_word_location(numero):\n",
    "    return numero.replace(\"#\", \":\")\n",
    "\n",
    "coran_mot['word_location'] = coran_mot['N° de mot'].apply(formatter_numero_en_word_location)\n",
    "\n",
    "coran_mot.head()"
   ]
  },
  {
   "cell_type": "code",
   "execution_count": null,
   "id": "6c2ea4b5",
   "metadata": {},
   "outputs": [],
   "source": [
    "# Trouver les word_location qui sont dans une source et pas l'autre\n",
    "\n",
    "\n",
    "# Un set recupere les valeurs uniques\n",
    "corpus_word_locations = set(corpus['word_location'])\n",
    "coran_mot_word_locations = set(coran_mot['word_location'])\n",
    "\n",
    "# les word_location dans corpus qui ne sont pas dans coran_mot\n",
    "seulement_dans_corpus = corpus_word_locations - coran_mot_word_locations\n",
    "\n",
    "# Find the word_location values that appear in df2 but not in df1\n",
    "seulement_dans_coran_mot = coran_mot_word_locations - corpus_word_locations\n",
    "\n",
    "# Print the results\n",
    "print(\"Dans corpus mais pas coran_mot:\", seulement_dans_corpus)\n",
    "print(\"Dans coran_mot mais pas corpus:\", seulement_dans_coran_mot)"
   ]
  },
  {
   "cell_type": "code",
   "execution_count": null,
   "id": "7def9fe2",
   "metadata": {},
   "outputs": [],
   "source": [
    "# En gros, il manque les versets 9:128 et 9:129 dans Coran mot a mot. Il manque aussi le mot 96:5:5.\n",
    "# Hypothese: il y a un decalage? Comparons le verset precedent, 9:127.\n",
    "\n",
    "# d'abord je cree une versino de corpus qui aggregue les FORM au niveau de word_location. \n",
    "\n",
    "corpus_word = corpus.groupby('word_location')['FORM'].apply(lambda x: ' '.join(map(str, x))).reset_index(name='transliteration_corpus')\n",
    "\n",
    "corpus_word.head()"
   ]
  },
  {
   "cell_type": "code",
   "execution_count": null,
   "id": "0d64bd3f",
   "metadata": {},
   "outputs": [],
   "source": [
    "# Ensuite je compare les deux au verset 9:127\n",
    "joined = corpus_word.merge(coran_mot, on=\"word_location\", how=\"outer\")\n",
    "\n",
    "joined_9_127 = joined.query('word_location.str.startswith(\"9:127\")')\n",
    "joined_9_127.head()\n",
    "# Ca m'a l'air correct. Donc ca veut dire qu'il manque 9:128 et 9:129 dans coran mot a mot. \n",
    "# Je ne comprends pas trop pourquoi ces deux versets manquent."
   ]
  },
  {
   "cell_type": "code",
   "execution_count": null,
   "id": "5beff989",
   "metadata": {},
   "outputs": [],
   "source": [
    "\n",
    "# Par contre pourquoi le mot 96:5:5, c'est surement plus anodin. Regardons:\n",
    "\n",
    "joined_95_5 = joined.query('word_location.str.startswith(\"96:5\")')\n",
    "joined_95_5.head()\n",
    "\n",
    "# Effectivement cette difference m'a l'air anodine! \n",
    "# Corpus considere que lamo est un mot separe et coran mot a mot non."
   ]
  },
  {
   "cell_type": "code",
   "execution_count": null,
   "id": "bd0604c7",
   "metadata": {},
   "outputs": [],
   "source": []
  },
  {
   "cell_type": "code",
   "execution_count": null,
   "id": "e21eb0da",
   "metadata": {},
   "outputs": [],
   "source": []
  }
 ],
 "metadata": {
  "kernelspec": {
   "display_name": "Python 3 (ipykernel)",
   "language": "python",
   "name": "python3"
  },
  "language_info": {
   "codemirror_mode": {
    "name": "ipython",
    "version": 3
   },
   "file_extension": ".py",
   "mimetype": "text/x-python",
   "name": "python",
   "nbconvert_exporter": "python",
   "pygments_lexer": "ipython3",
   "version": "3.11.2"
  }
 },
 "nbformat": 4,
 "nbformat_minor": 5
}
